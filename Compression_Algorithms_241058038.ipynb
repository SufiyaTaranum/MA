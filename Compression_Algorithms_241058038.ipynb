{
  "nbformat": 4,
  "nbformat_minor": 0,
  "metadata": {
    "colab": {
      "provenance": []
    },
    "kernelspec": {
      "name": "python3",
      "display_name": "Python 3"
    },
    "language_info": {
      "name": "python"
    }
  },
  "cells": [
    {
      "cell_type": "markdown",
      "source": [
        "### **Lempel-Ziv-Welsh coding**"
      ],
      "metadata": {
        "id": "mEhXP7bLmWlT"
      }
    },
    {
      "cell_type": "code",
      "execution_count": 15,
      "metadata": {
        "id": "qvBTHuFMweIA",
        "colab": {
          "base_uri": "https://localhost:8080/"
        },
        "outputId": "24687c3f-3351-4312-b561-676455f3309b"
      },
      "outputs": [
        {
          "output_type": "stream",
          "name": "stdout",
          "text": [
            "Compressed Output: [1, 2, 4, 5, 2, 3, 4, 6, 1]\n",
            "\n",
            "LZW Compression Steps Table:\n",
            "New Entry  Code Assigned  Output Code\n",
            "       AB              4            1\n",
            "       BA              5            2\n",
            "      ABB              6            4\n",
            "      BAB              7            5\n",
            "       BC              8            2\n",
            "       CA              9            3\n",
            "      ABA             10            4\n",
            "     ABBA             11            6\n"
          ]
        }
      ],
      "source": [
        "import heapq\n",
        "from collections import defaultdict\n",
        "import matplotlib.pyplot as plt\n",
        "import pandas as pd\n",
        "\n",
        "def lzw_compress(input_string):\n",
        "    dictionary = {\"A\": 1, \"B\": 2, \"C\": 3}\n",
        "    next_code = 4\n",
        "    s = \"\"\n",
        "    compressed_data = []\n",
        "    steps = []\n",
        "\n",
        "    for c in input_string:\n",
        "        if s + c in dictionary:\n",
        "            s = s + c\n",
        "        else:\n",
        "            compressed_data.append(dictionary[s])\n",
        "            dictionary[s + c] = next_code\n",
        "            steps.append([s + c, next_code, compressed_data[-1]])\n",
        "            next_code += 1\n",
        "            s = c\n",
        "\n",
        "    if s:\n",
        "        compressed_data.append(dictionary[s])\n",
        "\n",
        "    return compressed_data, steps\n",
        "\n",
        "\n",
        "def generate_table(steps):\n",
        "    df = pd.DataFrame(steps, columns=[\"New Entry\", \"Code Assigned\", \"Output Code\"])\n",
        "    print(\"\\nLZW Compression Steps Table:\")\n",
        "    print(df.to_string(index=False))\n",
        "\n",
        "# Example usage\n",
        "input_string = \"ABABBABCABABBA\"\n",
        "compressed_output, steps = lzw_compress(input_string)\n",
        "print(\"Compressed Output:\", compressed_output)\n",
        "\n",
        "generate_table(steps)\n"
      ]
    },
    {
      "cell_type": "code",
      "source": [
        "def lzw_decompress(compressed_data):\n",
        "    dictionary = {1: \"A\", 2: \"B\", 3: \"C\"}\n",
        "    next_code = 4\n",
        "    s = \"\"\n",
        "    decompressed_data = []\n",
        "    steps = []\n",
        "\n",
        "    for k in compressed_data:\n",
        "        if k in dictionary:\n",
        "            entry = dictionary[k]\n",
        "        elif k == next_code:\n",
        "            entry = s + s[0]\n",
        "        else:\n",
        "            raise ValueError(\"Invalid compressed data\")\n",
        "\n",
        "        decompressed_data.append(entry)\n",
        "\n",
        "        if s:\n",
        "            dictionary[next_code] = s + entry[0]\n",
        "            steps.append([next_code, dictionary[next_code]])\n",
        "            next_code += 1\n",
        "\n",
        "        s = entry\n",
        "\n",
        "    return \"\".join(decompressed_data), steps\n",
        "\n",
        "\n",
        "def generate_table(steps, columns):\n",
        "    df = pd.DataFrame(steps, columns=columns)\n",
        "    print(\"\\nLZW Steps Table:\")\n",
        "    print(df.to_string(index=False))\n",
        "\n",
        "# Example usage\n",
        "input_string = \"ABABBABCABABBA\"\n",
        "\n",
        "decompressed_output, decompression_steps = lzw_decompress(compressed_output)\n",
        "print(\"Decompressed Output:\", decompressed_output)\n",
        "\n",
        "generate_table(decompression_steps, [\"Code Assigned\", \"New Entry\"])\n"
      ],
      "metadata": {
        "id": "AFNxHeURxRHI",
        "colab": {
          "base_uri": "https://localhost:8080/"
        },
        "outputId": "24b33009-5bb5-42f6-8214-79c956093147"
      },
      "execution_count": 18,
      "outputs": [
        {
          "output_type": "stream",
          "name": "stdout",
          "text": [
            "Decompressed Output: ABABBABCABABBA\n",
            "\n",
            "LZW Steps Table:\n",
            " Code Assigned New Entry\n",
            "             4        AB\n",
            "             5        BA\n",
            "             6       ABB\n",
            "             7       BAB\n",
            "             8        BC\n",
            "             9        CA\n",
            "            10       ABA\n",
            "            11      ABBA\n"
          ]
        }
      ]
    },
    {
      "cell_type": "markdown",
      "source": [
        "## Static Huffman Coding"
      ],
      "metadata": {
        "id": "xqPNN5sim2gz"
      }
    },
    {
      "cell_type": "code",
      "source": [
        "import heapq\n",
        "import matplotlib.pyplot as plt\n",
        "import pandas as pd\n",
        "import networkx as nx\n",
        "from collections import defaultdict\n",
        "\n",
        "class HuffmanNode:\n",
        "    def __init__(self, char, freq):\n",
        "        self.char = char\n",
        "        self.freq = freq\n",
        "        self.left = None\n",
        "        self.right = None\n",
        "\n",
        "    def __lt__(self, other):\n",
        "        return self.freq < other.freq\n",
        "\n",
        "def build_huffman_tree(text):\n",
        "    frequency = defaultdict(int)\n",
        "    for char in text:\n",
        "        frequency[char] += 1\n",
        "\n",
        "    heap = [HuffmanNode(char, freq) for char, freq in frequency.items()]\n",
        "    heapq.heapify(heap)\n",
        "\n",
        "    steps = []  # Store merging steps for visualization\n",
        "    while len(heap) > 1:\n",
        "        left = heapq.heappop(heap)\n",
        "        right = heapq.heappop(heap)\n",
        "        merged = HuffmanNode(None, left.freq + right.freq)\n",
        "        merged.left = left\n",
        "        merged.right = right\n",
        "        heapq.heappush(heap, merged)\n",
        "        steps.append((left.char, right.char, left.freq, right.freq, merged.freq))\n",
        "\n",
        "    return heap[0], frequency, steps\n",
        "\n",
        "def generate_huffman_codes(node, prefix=\"\", codebook={}):\n",
        "    if node:\n",
        "        if node.char is not None:\n",
        "            codebook[node.char] = prefix\n",
        "        generate_huffman_codes(node.left, prefix + \"0\", codebook)\n",
        "        generate_huffman_codes(node.right, prefix + \"1\", codebook)\n",
        "    return codebook\n",
        "\n",
        "def huffman_encode(text, codebook):\n",
        "    return \" \".join(codebook[char] for char in text)\n",
        "\n",
        "def huffman_decode(encoded_text, root):\n",
        "    decoded_text = \"\"\n",
        "    node = root\n",
        "    for bit in encoded_text.replace(\" \", \"\"):\n",
        "        if bit == \"0\":\n",
        "            node = node.left\n",
        "        else:\n",
        "            node = node.right\n",
        "        if node.char is not None:\n",
        "            decoded_text += node.char\n",
        "            node = root\n",
        "    return decoded_text\n",
        "\n",
        "def generate_table(frequencies, codes):\n",
        "    df = pd.DataFrame(list(frequencies.items()), columns=[\"Character\", \"Frequency\"])\n",
        "    df[\"Huffman Code\"] = df[\"Character\"].map(codes)\n",
        "    print(\"\\nHuffman Encoding Table:\")\n",
        "    print(df.to_string(index=False))\n",
        "\n",
        "def visualize_huffman_tree(root):\n",
        "    G = nx.DiGraph()\n",
        "    pos = {}\n",
        "    labels = {}\n",
        "\n",
        "    def traverse(node, parent=None, depth=0, x=0):\n",
        "        if node:\n",
        "            node_id = id(node)\n",
        "            pos[node_id] = (x, -depth)\n",
        "            labels[node_id] = node.char if node.char else node.freq\n",
        "            if parent is not None:\n",
        "                G.add_edge(parent, node_id)\n",
        "            traverse(node.left, node_id, depth + 1, x - 1)\n",
        "            traverse(node.right, node_id, depth + 1, x + 1)\n",
        "\n",
        "    traverse(root)\n",
        "    plt.figure(figsize=(8, 5))\n",
        "    nx.draw(G, pos, labels=labels, with_labels=True, node_size=1500, node_color='lightblue')\n",
        "    plt.title(\"Huffman Tree Structure\")\n",
        "    plt.show()\n",
        "\n",
        "# Example usage\n",
        "input_text = \"AAAABBCD\"\n",
        "huffman_tree, frequencies, steps = build_huffman_tree(input_text)\n",
        "huffman_codes = generate_huffman_codes(huffman_tree)\n",
        "encoded_text = huffman_encode(input_text, huffman_codes)\n",
        "\n",
        "decoded_text = huffman_decode(encoded_text, huffman_tree)\n",
        "\n",
        "print(\"Huffman Codes:\", huffman_codes)\n",
        "print(\"Encoded Output:\", encoded_text)\n",
        "print(\"Decoded Output:\", decoded_text)\n",
        "\n",
        "generate_table(frequencies, huffman_codes)\n",
        "visualize_huffman_tree(huffman_tree)\n"
      ],
      "metadata": {
        "colab": {
          "base_uri": "https://localhost:8080/",
          "height": 733
        },
        "id": "jrIARM1tnw2p",
        "outputId": "148d7bc8-1478-493d-e836-080ad635f026"
      },
      "execution_count": 17,
      "outputs": [
        {
          "output_type": "stream",
          "name": "stdout",
          "text": [
            "Huffman Codes: {'A': '0', 'B': '10', 'C': '110', 'D': '111'}\n",
            "Encoded Output: 0 0 0 0 10 10 110 111\n",
            "Decoded Output: AAAABBCD\n",
            "\n",
            "Huffman Encoding Table:\n",
            "Character  Frequency Huffman Code\n",
            "        A          4            0\n",
            "        B          2           10\n",
            "        C          1          110\n",
            "        D          1          111\n"
          ]
        },
        {
          "output_type": "display_data",
          "data": {
            "text/plain": [
              "<Figure size 800x500 with 1 Axes>"
            ],
            "image/png": "[encoded data removed]"
          },
          "metadata": {}
        }
      ]
    },
    {
      "cell_type": "markdown",
      "source": [
        "# **Dynamic/Adaptive Huffman encoding**"
      ],
      "metadata": {
        "id": "kJJtOwuZqiqh"
      }
    },
    {
      "cell_type": "code",
      "source": [
        "import heapq\n",
        "import matplotlib.pyplot as plt\n",
        "import pandas as pd\n",
        "import networkx as nx\n",
        "from collections import defaultdict, Counter\n",
        "\n",
        "class HuffmanNode:\n",
        "    def __init__(self, char, freq):\n",
        "        self.char = char\n",
        "        self.freq = freq\n",
        "        self.left = None\n",
        "        self.right = None\n",
        "\n",
        "    def __lt__(self, other):\n",
        "        return self.freq < other.freq\n",
        "\n",
        "class DynamicHuffman:\n",
        "    def __init__(self):\n",
        "        self.root = None\n",
        "        self.frequency = Counter()\n",
        "        self.codebook = {}\n",
        "        self.steps = []\n",
        "\n",
        "    def update_tree(self, text):\n",
        "        self.frequency.update(text)\n",
        "        heap = [HuffmanNode(char, freq) for char, freq in self.frequency.items()]\n",
        "        heapq.heapify(heap)\n",
        "\n",
        "        while len(heap) > 1:\n",
        "            left = heapq.heappop(heap)\n",
        "            right = heapq.heappop(heap)\n",
        "            merged = HuffmanNode(None, left.freq + right.freq)\n",
        "            merged.left = left\n",
        "            merged.right = right\n",
        "            heapq.heappush(heap, merged)\n",
        "            self.steps.append((left.char, right.char, left.freq, right.freq, merged.freq))\n",
        "\n",
        "        self.root = heap[0]\n",
        "        self.codebook = self.generate_huffman_codes(self.root)\n",
        "\n",
        "    def generate_huffman_codes(self, node, prefix=\"\", codebook={}):\n",
        "        if node:\n",
        "            if node.char is not None:\n",
        "                codebook[node.char] = prefix\n",
        "            self.generate_huffman_codes(node.left, prefix + \"0\", codebook)\n",
        "            self.generate_huffman_codes(node.right, prefix + \"1\", codebook)\n",
        "        return codebook\n",
        "\n",
        "    def encode(self, text):\n",
        "        self.update_tree(text)\n",
        "        return \" \".join(self.codebook[char] for char in text)\n",
        "\n",
        "    def decode(self, encoded_text):\n",
        "        decoded_text = \"\"\n",
        "        current_node = self.root\n",
        "        for bit in encoded_text.replace(\" \", \"\"):\n",
        "            if bit == \"0\":\n",
        "                current_node = current_node.left\n",
        "            else:\n",
        "                current_node = current_node.right\n",
        "\n",
        "            if current_node.char is not None:\n",
        "                decoded_text += current_node.char\n",
        "                current_node = self.root\n",
        "        return decoded_text\n",
        "\n",
        "def generate_table(frequencies, codes):\n",
        "    df = pd.DataFrame(list(frequencies.items()), columns=[\"Character\", \"Frequency\"])\n",
        "    df[\"Huffman Code\"] = df[\"Character\"].map(codes)\n",
        "    print(\"\\nHuffman Encoding Table:\")\n",
        "    print(df.to_string(index=False))\n",
        "\n",
        "def visualize_huffman_tree(root):\n",
        "    G = nx.DiGraph()\n",
        "    pos = {}\n",
        "    labels = {}\n",
        "\n",
        "    def traverse(node, parent=None, depth=0, x=0):\n",
        "        if node:\n",
        "            node_id = id(node)\n",
        "            pos[node_id] = (x, -depth)\n",
        "            labels[node_id] = node.char if node.char else node.freq\n",
        "            if parent is not None:\n",
        "                G.add_edge(parent, node_id)\n",
        "            traverse(node.left, node_id, depth + 1, x - 1)\n",
        "            traverse(node.right, node_id, depth + 1, x + 1)\n",
        "\n",
        "    traverse(root)\n",
        "    plt.figure(figsize=(8, 5))\n",
        "    nx.draw(G, pos, labels=labels, with_labels=True, node_size=1500, node_color='lightblue')\n",
        "    plt.title(\"Dynamic Huffman Tree Structure\")\n",
        "    plt.show()\n",
        "\n",
        "# Dynamic Huffman Encoding & Decoding\n",
        "input_text = \"AADCCDD\"\n",
        "dh = DynamicHuffman()\n",
        "encoded_text = dh.encode(input_text)\n",
        "print(\"Huffman Codes:\", dh.codebook)\n",
        "print(\"Encoded Output:\", encoded_text)\n",
        "generate_table(dh.frequency, dh.codebook)\n",
        "visualize_huffman_tree(dh.root)\n",
        "\n",
        "decoded_text = dh.decode(encoded_text)\n",
        "print(\"Decoded Output:\", decoded_text)\n"
      ],
      "metadata": {
        "colab": {
          "base_uri": "https://localhost:8080/",
          "height": 715
        },
        "id": "bekvF3jEWXxj",
        "outputId": "b3705e4a-79a1-4107-a988-fca5b6e076cf"
      },
      "execution_count": 22,
      "outputs": [
        {
          "output_type": "stream",
          "name": "stdout",
          "text": [
            "Huffman Codes: {'D': '0', 'C': '10', 'A': '11'}\n",
            "Encoded Output: 11 11 0 10 10 0 0\n",
            "\n",
            "Huffman Encoding Table:\n",
            "Character  Frequency Huffman Code\n",
            "        A          2           11\n",
            "        D          3            0\n",
            "        C          2           10\n"
          ]
        },
        {
          "output_type": "display_data",
          "data": {
            "text/plain": [
              "<Figure size 800x500 with 1 Axes>"
            ],
            "image/png": "[encoded data removed]"
          },
          "metadata": {}
        },
        {
          "output_type": "stream",
          "name": "stdout",
          "text": [
            "Decoded Output: AADCCDD\n"
          ]
        }
      ]
    },
    {
      "cell_type": "code",
      "source": [
        "import matplotlib.pyplot as plt\n",
        "import pandas as pd\n",
        "\n",
        "# Given probabilities\n",
        "given_probabilities = {\n",
        "    'e': (0.0, 0.3),\n",
        "    'n': (0.3, 0.6),\n",
        "    't': (0.6, 0.8),\n",
        "    'w': (0.8, 0.9),\n",
        "    '.': (0.9, 1.0)\n",
        "}\n",
        "\n",
        "# Arithmetic Encoding\n",
        "def arithmetic_encode(text, probabilities):\n",
        "    low, high = 0.0, 1.0\n",
        "    range_ = 1.0\n",
        "    for char in text:\n",
        "        low = low + range_ * probabilities[char][0]\n",
        "        high = low + range_ * probabilities[char][1]\n",
        "        range_ = high - low\n",
        "    return (low + high) / 2\n",
        "\n",
        "# Arithmetic Decoding\n",
        "def arithmetic_decode(encoded_value, probabilities, length):\n",
        "    decoded_text = \"\"\n",
        "    low, high = 0.0, 1.0\n",
        "    range_ = 1.0\n",
        "    for _ in range(length):\n",
        "        for char, (char_low, char_high) in probabilities.items():\n",
        "            if low <= encoded_value < high:\n",
        "                decoded_text += char\n",
        "                range_ = high - low\n",
        "                high = low + range_ * char_high\n",
        "                low = low + range_ * char_low\n",
        "                break\n",
        "    return decoded_text\n",
        "\n",
        "# Generate Probability Table\n",
        "def generate_table(probabilities):\n",
        "    df = pd.DataFrame(probabilities.items(), columns=[\"Character\", \"Range\"])\n",
        "    print(\"\\nArithmetic Encoding Table:\")\n",
        "    print(df.to_string(index=False))\n",
        "\n",
        "# Example usage\n",
        "input_text = \"went\"\n",
        "encoded_value = arithmetic_encode(input_text, given_probabilities)\n",
        "print(\"Encoded Value:\", encoded_value)\n",
        "generate_table(given_probabilities)\n",
        "decoded_text = arithmetic_decode(encoded_value, given_probabilities, len(input_text))\n",
        "print(\"Decoded Output:\", decoded_text)\n",
        "\n",
        "# Plot probability distribution\n",
        "def plot_probabilities(probabilities):\n",
        "    chars = list(probabilities.keys())\n",
        "    ranges = [high - low for low, high in probabilities.values()]\n",
        "    plt.figure(figsize=(8, 5))\n",
        "    plt.bar(chars, ranges, color='skyblue')\n",
        "    plt.xlabel(\"Characters\")\n",
        "    plt.ylabel(\"Probability Range\")\n",
        "    plt.title(\"Arithmetic Encoding Probability Distribution\")\n",
        "    plt.show()\n",
        "\n",
        "plot_probabilities(given_probabilities)\n"
      ],
      "metadata": {
        "colab": {
          "base_uri": "https://localhost:8080/",
          "height": 661
        },
        "id": "b_Fc8vo4WXn8",
        "outputId": "2d98aaf8-644b-4d00-a92b-9788dbee8db5"
      },
      "execution_count": 25,
      "outputs": [
        {
          "output_type": "stream",
          "name": "stdout",
          "text": [
            "Encoded Value: 1.043\n",
            "\n",
            "Arithmetic Encoding Table:\n",
            "Character      Range\n",
            "        e (0.0, 0.3)\n",
            "        n (0.3, 0.6)\n",
            "        t (0.6, 0.8)\n",
            "        w (0.8, 0.9)\n",
            "        . (0.9, 1.0)\n",
            "Decoded Output: \n"
          ]
        },
        {
          "output_type": "display_data",
          "data": {
            "text/plain": [
              "<Figure size 800x500 with 1 Axes>"
            ],
            "image/png": "[encoded data removed]"
          },
          "metadata": {}
        }
      ]
    }
  ]
}